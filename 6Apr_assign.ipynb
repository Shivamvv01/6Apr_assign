{
 "cells": [
  {
   "cell_type": "markdown",
   "id": "56070960-4e41-465b-93fd-a985571458fb",
   "metadata": {},
   "source": [
    "Q1. What is the mathematical formula for a linear SVM?"
   ]
  },
  {
   "cell_type": "markdown",
   "id": "3475661e-2738-4a1c-8302-44447ee132d7",
   "metadata": {},
   "source": [
    "The goal of a linear SVM is to find a hyperplane which seperates two classes and the formula is :\n",
    "\n",
    "w T x + b = 0\n",
    "\n",
    "Where:\n",
    "\n",
    "w is the weight vector (coefficients) that defines the orientation of the hyperplane.\n",
    "x is the input feature vector.\n",
    "b is the bias term (intercept).\n",
    "The decision function for classifying a new input vector x is given by:\n",
    "\n",
    "f(x) = sign(w * x + b)\n",
    "\n",
    "In this equation, \"sign\" is the sign function, which returns +1 if w T x + b is greater than or equal to 0 and -1 otherwise.\n",
    "\n",
    "Consider we have to find the distance from the yellow point on the line to -4,0 for finding this we extend the orange line to the point and on finding the angle between the vector (w) and line we find it to be above 90 degrees so the as per property the distance is termed as negative.\n",
    "\n",
    "We do the same for the point 4,3 and find the angle between the vector (w) and point to be less than 90 so the distance is positive.\n",
    "\n",
    "Now based on this the yellow points are classified as negative and the white points as positive\n",
    "\n",
    "The objective of training a linear SVM is to find the optimal values of w and b that maximize the margin between the two classes while minimizing classification error."
   ]
  },
  {
   "cell_type": "markdown",
   "id": "ae16f161-f923-4e02-af0a-c9b72fa002cd",
   "metadata": {},
   "source": [
    "Q2. What is the objective function of a linear SVM?"
   ]
  },
  {
   "cell_type": "markdown",
   "id": "9fabba7b-d070-41b3-813d-66ce70e590aa",
   "metadata": {},
   "source": [
    "The objective function of a linear Support Vector Machine (SVM) is to find the optimal values of the weight vector (w) and the bias term (b) that define the decision boundary (hyperplane) while maximizing the margin between the two classes and minimizing classification error. The objective function is typically formulated as a constrained optimization problem.\n",
    "\n",
    "In the case of a linear SVM for binary classification, the objective function can be written as follows:\n",
    "\n",
    "Minimize: 1/2 * ||w||^2\n",
    "\n",
    "Subject to the constraints: y_i * (w T x_i + b) >= 1 for all training samples (x_i, y_i), where y_i ∈ {-1, 1}\n",
    "\n",
    "In this formulation:\n",
    "\n",
    "||w|| represents the Euclidean norm (magnitude) of the weight vector w.\n",
    "The term 1/2 * ||w||^2 is often referred to as the regularization term, and the objective is to minimize it. This term encourages the margin to be maximized.\n",
    "The constraints ensure that all training samples are correctly classified and lie on the correct side of the decision boundary. Specifically, it enforces that each sample (x_i, y_i) should be on or beyond the margin boundary, which is defined by y_i * (w * x_i + b) = 1.\n",
    "The goal is to find the values of w and b that minimize the regularization term while satisfying the margin constraints.\n",
    "\n",
    "The SVM objective function aims to strike a balance between maximizing the margin (which helps improve generalization) and minimizing classification error."
   ]
  },
  {
   "cell_type": "markdown",
   "id": "18b1513c-1a56-4c0b-ab1d-34044317cd17",
   "metadata": {},
   "source": [
    "Q3. What is the kernel trick in SVM?"
   ]
  },
  {
   "cell_type": "markdown",
   "id": "866c34f4-702f-4cf6-a84e-232e2b9a7b45",
   "metadata": {},
   "source": [
    "The kernel trick is a fundamental concept in Support Vector Machines (SVMs) that allows SVMs to effectively handle non-linearly separable data by implicitly mapping the input features into a higher-dimensional space. It is a powerful technique that extends the capability of SVMs from linearly separable problems to non-linear ones.\n",
    "\n",
    "Here's an explanation of the kernel trick:\n",
    "\n",
    "Linear Separability and Non-Linearity:\n",
    "\n",
    "In a traditional linear SVM, the algorithm seeks to find a hyperplane in the original feature space that best separates two classes of data.\n",
    "However, many real-world datasets are not linearly separable, meaning a simple straight line or hyperplane cannot separate the classes.\n",
    "Kernel Functions:\n",
    "\n",
    "The kernel trick solves this problem by introducing kernel functions (also called Mercer kernels).\n",
    "A kernel function is a mathematical function that computes the dot product between the mapped feature vectors in a higher-dimensional space without explicitly calculating the mapping itself. This allows SVMs to work in a potentially infinite-dimensional feature space without the need to store or compute the actual feature vectors in that space.\n",
    "Mapping to a Higher-Dimensional Space:\n",
    "\n",
    "The kernel function implicitly maps the original feature vectors into a higher-dimensional space where the data might become linearly separable.\n",
    "Common kernel functions include the polynomial kernel (which introduces polynomial terms), the radial basis function (RBF) kernel (which creates a non-linear, Gaussian-like separation), and the sigmoid kernel, among others.\n",
    "Decision Boundary in the Higher-Dimensional Space:\n",
    "\n",
    "In the higher-dimensional space, the SVM aims to find a hyperplane that best separates the classes. This hyperplane can be non-linear in the original feature space but is linear in the higher-dimensional space.\n",
    "Predictions in Original Space:\n",
    "\n",
    "Although the SVM operates in the higher-dimensional space, it can make predictions in the original feature space by using the kernel function to compute the dot product between the new, implicitly mapped feature vectors and the decision boundary.\n",
    "The types of kernel functions are :\n",
    "\n",
    "Linear kernel\n",
    "Polynomial kernel\n",
    "Radial Basis Function (RPF) kernel\n",
    "Sigmoid kernel\n",
    "The choice of the kernel function and its parameters is essential and depends on the nature of the data. Different kernel functions have different properties, and selecting the right one can significantly impact the SVM's performance.\n",
    "\n",
    "The kernel trick allows SVMs to handle complex decision boundaries and capture intricate relationships in the data, making them a versatile tool for classification and regression tasks, especially when the data is not linearly separable."
   ]
  },
  {
   "cell_type": "markdown",
   "id": "673a20b9-d113-4e4e-8db6-ad1c47fbcfa1",
   "metadata": {},
   "source": [
    "Q4. What is the role of support vectors in SVM Explain with example"
   ]
  },
  {
   "cell_type": "markdown",
   "id": "f9d12211-fc86-4582-929a-adf65f8f7f86",
   "metadata": {},
   "source": [
    "Support vectors play a crucial role in Support Vector Machines (SVMs) and are central to the SVM's ability to find an optimal hyperplane for classification or regression tasks. Support vectors are the data points that are closest to the decision boundary (hyperplane), and they have a significant influence on the placement and orientation of the hyperplane. Here's an explanation of the role of support vectors with an example:\n",
    "\n",
    "Role of Support Vectors:\n",
    "\n",
    "Defining the Margin:\n",
    "\n",
    "Support vectors are the data points that lie on or within the margin of the hyperplane. The margin is the region between the two parallel hyperplanes that are equidistant from the decision boundary.\n",
    "The support vectors define the width of the margin. The margin is maximized when the hyperplane is positioned such that it is as far away from the support vectors as possible.\n",
    "Supporting the Decision Boundary:\n",
    "\n",
    "The decision boundary (hyperplane) in SVM is determined by the support vectors. These vectors provide support to the hyperplane by being the closest data points from each class to it.\n",
    "In the case of a linear SVM, the decision boundary is positioned to achieve the maximum margin while ensuring that it separates the support vectors of one class from the support vectors of the other class.\n",
    "Example:\n",
    "\n",
    "Let's consider a simple binary classification problem in a two-dimensional feature space. We have two classes, represented by red and blue points on a plane. The goal is to find a linear decision boundary (hyperplane) that separates these two classes.\n",
    "\n",
    "The orange points and yellow points are the data points from two classes.\n",
    "The solid line represents the decision boundary (hyperplane) found by the SVM.\n",
    "The dashed lines parallel to the decision boundary represent the margin.\n",
    "The support vectors are the data points that are closest to the decision boundary and lie on or within the margin. In this case, these are the data points circled in the image.\n",
    "The support vectors (circled points) play a critical role in determining the position and orientation of the decision boundary. The SVM aims to maximize the margin while ensuring that these support vectors are correctly classified. The other data points, which are not support vectors, have no influence on the placement of the decision boundary.\n",
    "\n",
    "In summary, support vectors are the key data points that guide the SVM in finding an optimal hyperplane by defining the margin and providing support for the decision boundary. They are essential for the SVM's ability to generalize and make accurate predictions on new, unseen data."
   ]
  },
  {
   "cell_type": "markdown",
   "id": "29f2fe25-f413-4bc0-8b18-ee8202e5d736",
   "metadata": {},
   "source": [
    "Q5. Illustrate with examples and graphs of Hyperplane, Marginal plane, Soft margin and Hard margin in\n",
    "SVM?"
   ]
  },
  {
   "cell_type": "markdown",
   "id": "0c36c3dd-39ca-4dd7-a900-879caefdca4f",
   "metadata": {},
   "source": [
    "I'll provide examples and graphical representations of the concepts of Hyperplane, Marginal Plane, Soft Margin, and Hard Margin in Support Vector Machines (SVM) using a two-dimensional feature space for simplicity.\n",
    "\n",
    "1. Hyperplane:\n",
    "\n",
    "A hyperplane in SVM is a decision boundary that separates data points of different classes. In a two-dimensional feature space, a hyperplane is a straight line.\n",
    "\n",
    "2. Marginal Plane:\n",
    "\n",
    "The marginal planes are the two parallel lines that run on each side of the hyperplane and define the margin in a Support Vector Machine. The margin is the region between these two planes where no data points should ideally exist. Here's an example:\n",
    "\n",
    "3. Hard Margin:\n",
    "\n",
    "In a Hard Margin SVM, the goal is to find a hyperplane that perfectly separates the two classes, with no data points allowed in the margin region.\n",
    "\n",
    "4. Soft Margin:\n",
    "\n",
    "In a Soft Margin SVM, some level of misclassification or allowing data points within the margin is permitted to find a more robust decision boundary when the data is not perfectly separable.\n",
    "\n",
    "In real-world scenarios, data is often not perfectly separable, so Soft Margin SVMs are more commonly used. The parameter C controls the trade-off between maximizing the margin and minimizing the misclassification of data points. Smaller values of C result in a wider margin with potential misclassification, while larger values of C create a narrower margin but with fewer misclassifications. The choice of C depends on the specific problem and the nature of the data."
   ]
  },
  {
   "cell_type": "markdown",
   "id": "58ea146b-ae43-4013-bc3b-dacdf86a7d39",
   "metadata": {},
   "source": [
    "Q6. SVM Implementation through Iris dataset.\n",
    "\n",
    "Bonus task: Implement a linear SVM classifier from scratch using Python and compare its\n",
    "performance with the scikit-learn implementation.\n",
    "~ Load the iris dataset from the scikit-learn library and split it into a training set and a testing setl\n",
    "~ Train a linear SVM classifier on the training set and predict the labels for the testing setl\n",
    "~ Compute the accuracy of the model on the testing setl\n",
    "~ Plot the decision boundaries of the trained model using two of the featuresl\n",
    "~ Try different values of the regularisation parameter C and see how it affects the performance of\n",
    "the model."
   ]
  },
  {
   "cell_type": "code",
   "execution_count": 18,
   "id": "9c9eea8d-07fb-4de9-9687-92a86370d959",
   "metadata": {},
   "outputs": [],
   "source": [
    "import numpy as np\n",
    "import pandas as pd\n",
    "import seaborn as sns\n",
    "import matplotlib.pyplot as plt\n",
    "%matplotlib inline\n",
    "from sklearn.datasets import load_iris\n",
    "from sklearn.model_selection import train_test_split\n",
    "from sklearn.svm import SVC\n",
    "from sklearn.metrics import accuracy_score,confusion_matrix"
   ]
  },
  {
   "cell_type": "code",
   "execution_count": 19,
   "id": "b42b9101-5306-495f-8dbb-3c5ed4f31078",
   "metadata": {},
   "outputs": [],
   "source": [
    "dataset = load_iris()"
   ]
  },
  {
   "cell_type": "code",
   "execution_count": 20,
   "id": "0e5537b4-698b-4914-9057-dcbe8b8fbd72",
   "metadata": {},
   "outputs": [
    {
     "name": "stdout",
     "output_type": "stream",
     "text": [
      ".. _iris_dataset:\n",
      "\n",
      "Iris plants dataset\n",
      "--------------------\n",
      "\n",
      "**Data Set Characteristics:**\n",
      "\n",
      "    :Number of Instances: 150 (50 in each of three classes)\n",
      "    :Number of Attributes: 4 numeric, predictive attributes and the class\n",
      "    :Attribute Information:\n",
      "        - sepal length in cm\n",
      "        - sepal width in cm\n",
      "        - petal length in cm\n",
      "        - petal width in cm\n",
      "        - class:\n",
      "                - Iris-Setosa\n",
      "                - Iris-Versicolour\n",
      "                - Iris-Virginica\n",
      "                \n",
      "    :Summary Statistics:\n",
      "\n",
      "    ============== ==== ==== ======= ===== ====================\n",
      "                    Min  Max   Mean    SD   Class Correlation\n",
      "    ============== ==== ==== ======= ===== ====================\n",
      "    sepal length:   4.3  7.9   5.84   0.83    0.7826\n",
      "    sepal width:    2.0  4.4   3.05   0.43   -0.4194\n",
      "    petal length:   1.0  6.9   3.76   1.76    0.9490  (high!)\n",
      "    petal width:    0.1  2.5   1.20   0.76    0.9565  (high!)\n",
      "    ============== ==== ==== ======= ===== ====================\n",
      "\n",
      "    :Missing Attribute Values: None\n",
      "    :Class Distribution: 33.3% for each of 3 classes.\n",
      "    :Creator: R.A. Fisher\n",
      "    :Donor: Michael Marshall (MARSHALL%PLU@io.arc.nasa.gov)\n",
      "    :Date: July, 1988\n",
      "\n",
      "The famous Iris database, first used by Sir R.A. Fisher. The dataset is taken\n",
      "from Fisher's paper. Note that it's the same as in R, but not as in the UCI\n",
      "Machine Learning Repository, which has two wrong data points.\n",
      "\n",
      "This is perhaps the best known database to be found in the\n",
      "pattern recognition literature.  Fisher's paper is a classic in the field and\n",
      "is referenced frequently to this day.  (See Duda & Hart, for example.)  The\n",
      "data set contains 3 classes of 50 instances each, where each class refers to a\n",
      "type of iris plant.  One class is linearly separable from the other 2; the\n",
      "latter are NOT linearly separable from each other.\n",
      "\n",
      ".. topic:: References\n",
      "\n",
      "   - Fisher, R.A. \"The use of multiple measurements in taxonomic problems\"\n",
      "     Annual Eugenics, 7, Part II, 179-188 (1936); also in \"Contributions to\n",
      "     Mathematical Statistics\" (John Wiley, NY, 1950).\n",
      "   - Duda, R.O., & Hart, P.E. (1973) Pattern Classification and Scene Analysis.\n",
      "     (Q327.D83) John Wiley & Sons.  ISBN 0-471-22361-1.  See page 218.\n",
      "   - Dasarathy, B.V. (1980) \"Nosing Around the Neighborhood: A New System\n",
      "     Structure and Classification Rule for Recognition in Partially Exposed\n",
      "     Environments\".  IEEE Transactions on Pattern Analysis and Machine\n",
      "     Intelligence, Vol. PAMI-2, No. 1, 67-71.\n",
      "   - Gates, G.W. (1972) \"The Reduced Nearest Neighbor Rule\".  IEEE Transactions\n",
      "     on Information Theory, May 1972, 431-433.\n",
      "   - See also: 1988 MLC Proceedings, 54-64.  Cheeseman et al\"s AUTOCLASS II\n",
      "     conceptual clustering system finds 3 classes in the data.\n",
      "   - Many, many more ...\n"
     ]
    }
   ],
   "source": [
    "print(dataset.DESCR)"
   ]
  },
  {
   "cell_type": "code",
   "execution_count": 21,
   "id": "d8d24811-1ec1-41b8-8f91-98cfe54fde10",
   "metadata": {},
   "outputs": [],
   "source": [
    "df = pd.DataFrame(dataset.data, columns=dataset.feature_names)"
   ]
  },
  {
   "cell_type": "code",
   "execution_count": 22,
   "id": "bb0e19b5-ebed-4cd7-8106-4b3f7c99a283",
   "metadata": {},
   "outputs": [],
   "source": [
    "df['target'] = dataset.target"
   ]
  },
  {
   "cell_type": "code",
   "execution_count": 23,
   "id": "53701c46-5193-4f2a-9a63-eba46cf3c682",
   "metadata": {},
   "outputs": [
    {
     "data": {
      "text/html": [
       "<div>\n",
       "<style scoped>\n",
       "    .dataframe tbody tr th:only-of-type {\n",
       "        vertical-align: middle;\n",
       "    }\n",
       "\n",
       "    .dataframe tbody tr th {\n",
       "        vertical-align: top;\n",
       "    }\n",
       "\n",
       "    .dataframe thead th {\n",
       "        text-align: right;\n",
       "    }\n",
       "</style>\n",
       "<table border=\"1\" class=\"dataframe\">\n",
       "  <thead>\n",
       "    <tr style=\"text-align: right;\">\n",
       "      <th></th>\n",
       "      <th>sepal length (cm)</th>\n",
       "      <th>sepal width (cm)</th>\n",
       "      <th>petal length (cm)</th>\n",
       "      <th>petal width (cm)</th>\n",
       "      <th>target</th>\n",
       "    </tr>\n",
       "  </thead>\n",
       "  <tbody>\n",
       "    <tr>\n",
       "      <th>0</th>\n",
       "      <td>5.1</td>\n",
       "      <td>3.5</td>\n",
       "      <td>1.4</td>\n",
       "      <td>0.2</td>\n",
       "      <td>0</td>\n",
       "    </tr>\n",
       "    <tr>\n",
       "      <th>1</th>\n",
       "      <td>4.9</td>\n",
       "      <td>3.0</td>\n",
       "      <td>1.4</td>\n",
       "      <td>0.2</td>\n",
       "      <td>0</td>\n",
       "    </tr>\n",
       "    <tr>\n",
       "      <th>2</th>\n",
       "      <td>4.7</td>\n",
       "      <td>3.2</td>\n",
       "      <td>1.3</td>\n",
       "      <td>0.2</td>\n",
       "      <td>0</td>\n",
       "    </tr>\n",
       "    <tr>\n",
       "      <th>3</th>\n",
       "      <td>4.6</td>\n",
       "      <td>3.1</td>\n",
       "      <td>1.5</td>\n",
       "      <td>0.2</td>\n",
       "      <td>0</td>\n",
       "    </tr>\n",
       "    <tr>\n",
       "      <th>4</th>\n",
       "      <td>5.0</td>\n",
       "      <td>3.6</td>\n",
       "      <td>1.4</td>\n",
       "      <td>0.2</td>\n",
       "      <td>0</td>\n",
       "    </tr>\n",
       "  </tbody>\n",
       "</table>\n",
       "</div>"
      ],
      "text/plain": [
       "   sepal length (cm)  sepal width (cm)  petal length (cm)  petal width (cm)  \\\n",
       "0                5.1               3.5                1.4               0.2   \n",
       "1                4.9               3.0                1.4               0.2   \n",
       "2                4.7               3.2                1.3               0.2   \n",
       "3                4.6               3.1                1.5               0.2   \n",
       "4                5.0               3.6                1.4               0.2   \n",
       "\n",
       "   target  \n",
       "0       0  \n",
       "1       0  \n",
       "2       0  \n",
       "3       0  \n",
       "4       0  "
      ]
     },
     "execution_count": 23,
     "metadata": {},
     "output_type": "execute_result"
    }
   ],
   "source": [
    "df.head()"
   ]
  },
  {
   "cell_type": "code",
   "execution_count": 24,
   "id": "8f8ea829-ae33-4870-b920-55f2b0754a5a",
   "metadata": {},
   "outputs": [
    {
     "data": {
      "text/html": [
       "<div>\n",
       "<style scoped>\n",
       "    .dataframe tbody tr th:only-of-type {\n",
       "        vertical-align: middle;\n",
       "    }\n",
       "\n",
       "    .dataframe tbody tr th {\n",
       "        vertical-align: top;\n",
       "    }\n",
       "\n",
       "    .dataframe thead th {\n",
       "        text-align: right;\n",
       "    }\n",
       "</style>\n",
       "<table border=\"1\" class=\"dataframe\">\n",
       "  <thead>\n",
       "    <tr style=\"text-align: right;\">\n",
       "      <th></th>\n",
       "      <th>sepal length (cm)</th>\n",
       "      <th>sepal width (cm)</th>\n",
       "      <th>petal length (cm)</th>\n",
       "      <th>petal width (cm)</th>\n",
       "      <th>target</th>\n",
       "    </tr>\n",
       "  </thead>\n",
       "  <tbody>\n",
       "    <tr>\n",
       "      <th>145</th>\n",
       "      <td>6.7</td>\n",
       "      <td>3.0</td>\n",
       "      <td>5.2</td>\n",
       "      <td>2.3</td>\n",
       "      <td>2</td>\n",
       "    </tr>\n",
       "    <tr>\n",
       "      <th>146</th>\n",
       "      <td>6.3</td>\n",
       "      <td>2.5</td>\n",
       "      <td>5.0</td>\n",
       "      <td>1.9</td>\n",
       "      <td>2</td>\n",
       "    </tr>\n",
       "    <tr>\n",
       "      <th>147</th>\n",
       "      <td>6.5</td>\n",
       "      <td>3.0</td>\n",
       "      <td>5.2</td>\n",
       "      <td>2.0</td>\n",
       "      <td>2</td>\n",
       "    </tr>\n",
       "    <tr>\n",
       "      <th>148</th>\n",
       "      <td>6.2</td>\n",
       "      <td>3.4</td>\n",
       "      <td>5.4</td>\n",
       "      <td>2.3</td>\n",
       "      <td>2</td>\n",
       "    </tr>\n",
       "    <tr>\n",
       "      <th>149</th>\n",
       "      <td>5.9</td>\n",
       "      <td>3.0</td>\n",
       "      <td>5.1</td>\n",
       "      <td>1.8</td>\n",
       "      <td>2</td>\n",
       "    </tr>\n",
       "  </tbody>\n",
       "</table>\n",
       "</div>"
      ],
      "text/plain": [
       "     sepal length (cm)  sepal width (cm)  petal length (cm)  petal width (cm)  \\\n",
       "145                6.7               3.0                5.2               2.3   \n",
       "146                6.3               2.5                5.0               1.9   \n",
       "147                6.5               3.0                5.2               2.0   \n",
       "148                6.2               3.4                5.4               2.3   \n",
       "149                5.9               3.0                5.1               1.8   \n",
       "\n",
       "     target  \n",
       "145       2  \n",
       "146       2  \n",
       "147       2  \n",
       "148       2  \n",
       "149       2  "
      ]
     },
     "execution_count": 24,
     "metadata": {},
     "output_type": "execute_result"
    }
   ],
   "source": [
    "df.tail()"
   ]
  },
  {
   "cell_type": "code",
   "execution_count": 25,
   "id": "aa986af2-a4ed-4bbd-bca5-872bb60aec31",
   "metadata": {},
   "outputs": [],
   "source": [
    "#Dependent and Independent Features\n",
    "X = df.iloc[:,:-1]\n",
    "y = df.target"
   ]
  },
  {
   "cell_type": "code",
   "execution_count": 26,
   "id": "bfc6de4f-c27e-4a70-975d-db51a9abb7c6",
   "metadata": {},
   "outputs": [
    {
     "data": {
      "text/html": [
       "<div>\n",
       "<style scoped>\n",
       "    .dataframe tbody tr th:only-of-type {\n",
       "        vertical-align: middle;\n",
       "    }\n",
       "\n",
       "    .dataframe tbody tr th {\n",
       "        vertical-align: top;\n",
       "    }\n",
       "\n",
       "    .dataframe thead th {\n",
       "        text-align: right;\n",
       "    }\n",
       "</style>\n",
       "<table border=\"1\" class=\"dataframe\">\n",
       "  <thead>\n",
       "    <tr style=\"text-align: right;\">\n",
       "      <th></th>\n",
       "      <th>sepal length (cm)</th>\n",
       "      <th>sepal width (cm)</th>\n",
       "      <th>petal length (cm)</th>\n",
       "      <th>petal width (cm)</th>\n",
       "    </tr>\n",
       "  </thead>\n",
       "  <tbody>\n",
       "    <tr>\n",
       "      <th>0</th>\n",
       "      <td>5.1</td>\n",
       "      <td>3.5</td>\n",
       "      <td>1.4</td>\n",
       "      <td>0.2</td>\n",
       "    </tr>\n",
       "    <tr>\n",
       "      <th>1</th>\n",
       "      <td>4.9</td>\n",
       "      <td>3.0</td>\n",
       "      <td>1.4</td>\n",
       "      <td>0.2</td>\n",
       "    </tr>\n",
       "    <tr>\n",
       "      <th>2</th>\n",
       "      <td>4.7</td>\n",
       "      <td>3.2</td>\n",
       "      <td>1.3</td>\n",
       "      <td>0.2</td>\n",
       "    </tr>\n",
       "    <tr>\n",
       "      <th>3</th>\n",
       "      <td>4.6</td>\n",
       "      <td>3.1</td>\n",
       "      <td>1.5</td>\n",
       "      <td>0.2</td>\n",
       "    </tr>\n",
       "    <tr>\n",
       "      <th>4</th>\n",
       "      <td>5.0</td>\n",
       "      <td>3.6</td>\n",
       "      <td>1.4</td>\n",
       "      <td>0.2</td>\n",
       "    </tr>\n",
       "  </tbody>\n",
       "</table>\n",
       "</div>"
      ],
      "text/plain": [
       "   sepal length (cm)  sepal width (cm)  petal length (cm)  petal width (cm)\n",
       "0                5.1               3.5                1.4               0.2\n",
       "1                4.9               3.0                1.4               0.2\n",
       "2                4.7               3.2                1.3               0.2\n",
       "3                4.6               3.1                1.5               0.2\n",
       "4                5.0               3.6                1.4               0.2"
      ]
     },
     "execution_count": 26,
     "metadata": {},
     "output_type": "execute_result"
    }
   ],
   "source": [
    "X.head()"
   ]
  },
  {
   "cell_type": "code",
   "execution_count": 27,
   "id": "6ffb6b92-98d8-43ea-a8ec-a70e0baa4918",
   "metadata": {},
   "outputs": [
    {
     "data": {
      "text/plain": [
       "0    0\n",
       "1    0\n",
       "2    0\n",
       "3    0\n",
       "4    0\n",
       "Name: target, dtype: int64"
      ]
     },
     "execution_count": 27,
     "metadata": {},
     "output_type": "execute_result"
    }
   ],
   "source": [
    "y.head()"
   ]
  },
  {
   "cell_type": "code",
   "execution_count": 28,
   "id": "5997af3f-38a4-4956-922e-0be4c9d0df3d",
   "metadata": {},
   "outputs": [],
   "source": [
    "X_train,X_test,y_train,y_test = train_test_split(X,y,test_size=0.25,random_state=42)"
   ]
  },
  {
   "cell_type": "code",
   "execution_count": 29,
   "id": "f75949e1-f0a2-418a-b1cb-3018954e0851",
   "metadata": {},
   "outputs": [
    {
     "data": {
      "text/html": [
       "<style>#sk-container-id-2 {color: black;background-color: white;}#sk-container-id-2 pre{padding: 0;}#sk-container-id-2 div.sk-toggleable {background-color: white;}#sk-container-id-2 label.sk-toggleable__label {cursor: pointer;display: block;width: 100%;margin-bottom: 0;padding: 0.3em;box-sizing: border-box;text-align: center;}#sk-container-id-2 label.sk-toggleable__label-arrow:before {content: \"▸\";float: left;margin-right: 0.25em;color: #696969;}#sk-container-id-2 label.sk-toggleable__label-arrow:hover:before {color: black;}#sk-container-id-2 div.sk-estimator:hover label.sk-toggleable__label-arrow:before {color: black;}#sk-container-id-2 div.sk-toggleable__content {max-height: 0;max-width: 0;overflow: hidden;text-align: left;background-color: #f0f8ff;}#sk-container-id-2 div.sk-toggleable__content pre {margin: 0.2em;color: black;border-radius: 0.25em;background-color: #f0f8ff;}#sk-container-id-2 input.sk-toggleable__control:checked~div.sk-toggleable__content {max-height: 200px;max-width: 100%;overflow: auto;}#sk-container-id-2 input.sk-toggleable__control:checked~label.sk-toggleable__label-arrow:before {content: \"▾\";}#sk-container-id-2 div.sk-estimator input.sk-toggleable__control:checked~label.sk-toggleable__label {background-color: #d4ebff;}#sk-container-id-2 div.sk-label input.sk-toggleable__control:checked~label.sk-toggleable__label {background-color: #d4ebff;}#sk-container-id-2 input.sk-hidden--visually {border: 0;clip: rect(1px 1px 1px 1px);clip: rect(1px, 1px, 1px, 1px);height: 1px;margin: -1px;overflow: hidden;padding: 0;position: absolute;width: 1px;}#sk-container-id-2 div.sk-estimator {font-family: monospace;background-color: #f0f8ff;border: 1px dotted black;border-radius: 0.25em;box-sizing: border-box;margin-bottom: 0.5em;}#sk-container-id-2 div.sk-estimator:hover {background-color: #d4ebff;}#sk-container-id-2 div.sk-parallel-item::after {content: \"\";width: 100%;border-bottom: 1px solid gray;flex-grow: 1;}#sk-container-id-2 div.sk-label:hover label.sk-toggleable__label {background-color: #d4ebff;}#sk-container-id-2 div.sk-serial::before {content: \"\";position: absolute;border-left: 1px solid gray;box-sizing: border-box;top: 0;bottom: 0;left: 50%;z-index: 0;}#sk-container-id-2 div.sk-serial {display: flex;flex-direction: column;align-items: center;background-color: white;padding-right: 0.2em;padding-left: 0.2em;position: relative;}#sk-container-id-2 div.sk-item {position: relative;z-index: 1;}#sk-container-id-2 div.sk-parallel {display: flex;align-items: stretch;justify-content: center;background-color: white;position: relative;}#sk-container-id-2 div.sk-item::before, #sk-container-id-2 div.sk-parallel-item::before {content: \"\";position: absolute;border-left: 1px solid gray;box-sizing: border-box;top: 0;bottom: 0;left: 50%;z-index: -1;}#sk-container-id-2 div.sk-parallel-item {display: flex;flex-direction: column;z-index: 1;position: relative;background-color: white;}#sk-container-id-2 div.sk-parallel-item:first-child::after {align-self: flex-end;width: 50%;}#sk-container-id-2 div.sk-parallel-item:last-child::after {align-self: flex-start;width: 50%;}#sk-container-id-2 div.sk-parallel-item:only-child::after {width: 0;}#sk-container-id-2 div.sk-dashed-wrapped {border: 1px dashed gray;margin: 0 0.4em 0.5em 0.4em;box-sizing: border-box;padding-bottom: 0.4em;background-color: white;}#sk-container-id-2 div.sk-label label {font-family: monospace;font-weight: bold;display: inline-block;line-height: 1.2em;}#sk-container-id-2 div.sk-label-container {text-align: center;}#sk-container-id-2 div.sk-container {/* jupyter's `normalize.less` sets `[hidden] { display: none; }` but bootstrap.min.css set `[hidden] { display: none !important; }` so we also need the `!important` here to be able to override the default hidden behavior on the sphinx rendered scikit-learn.org. See: https://github.com/scikit-learn/scikit-learn/issues/21755 */display: inline-block !important;position: relative;}#sk-container-id-2 div.sk-text-repr-fallback {display: none;}</style><div id=\"sk-container-id-2\" class=\"sk-top-container\"><div class=\"sk-text-repr-fallback\"><pre>SVC(kernel=&#x27;linear&#x27;)</pre><b>In a Jupyter environment, please rerun this cell to show the HTML representation or trust the notebook. <br />On GitHub, the HTML representation is unable to render, please try loading this page with nbviewer.org.</b></div><div class=\"sk-container\" hidden><div class=\"sk-item\"><div class=\"sk-estimator sk-toggleable\"><input class=\"sk-toggleable__control sk-hidden--visually\" id=\"sk-estimator-id-2\" type=\"checkbox\" checked><label for=\"sk-estimator-id-2\" class=\"sk-toggleable__label sk-toggleable__label-arrow\">SVC</label><div class=\"sk-toggleable__content\"><pre>SVC(kernel=&#x27;linear&#x27;)</pre></div></div></div></div></div>"
      ],
      "text/plain": [
       "SVC(kernel='linear')"
      ]
     },
     "execution_count": 29,
     "metadata": {},
     "output_type": "execute_result"
    }
   ],
   "source": [
    "svm = SVC(kernel = 'linear')\n",
    "svm.fit(X_train,y_train)"
   ]
  },
  {
   "cell_type": "code",
   "execution_count": 30,
   "id": "a7832de7-2d94-49f0-964b-ce732ef45c81",
   "metadata": {},
   "outputs": [
    {
     "data": {
      "text/plain": [
       "1.0"
      ]
     },
     "execution_count": 30,
     "metadata": {},
     "output_type": "execute_result"
    }
   ],
   "source": [
    "y_pred = svm.predict(X_test)\n",
    "accuracy_score(y_test,y_pred)"
   ]
  },
  {
   "cell_type": "code",
   "execution_count": 31,
   "id": "a9ed7b15-10e7-4280-b181-477ec5d64801",
   "metadata": {},
   "outputs": [
    {
     "data": {
      "text/plain": [
       "<AxesSubplot: >"
      ]
     },
     "execution_count": 31,
     "metadata": {},
     "output_type": "execute_result"
    },
    {
     "data": {
      "image/png": "[encoded data removed]",
      "text/plain": [
       "<Figure size 640x480 with 2 Axes>"
      ]
     },
     "metadata": {},
     "output_type": "display_data"
    }
   ],
   "source": [
    "cf = confusion_matrix(y_test,y_pred)\n",
    "sns.heatmap(cf,annot=True)"
   ]
  },
  {
   "cell_type": "code",
   "execution_count": 32,
   "id": "98f550d6-3e19-41c8-bfdf-1ac86f556037",
   "metadata": {},
   "outputs": [
    {
     "data": {
      "image/png": "[encoded data removed]",
      "text/plain": [
       "<Figure size 640x480 with 1 Axes>"
      ]
     },
     "metadata": {},
     "output_type": "display_data"
    }
   ],
   "source": [
    "# Plot the decision boundaries of the trained model using two of the features\n",
    "df_train = pd.concat([X_train,y_train],axis=1)\n",
    "sns.scatterplot(data = df_train, x = 'sepal length (cm)',y='sepal width (cm)',hue = y_train)\n",
    "plt.title('Sepal Length vs Sepal width')\n",
    "plt.show()"
   ]
  },
  {
   "cell_type": "code",
   "execution_count": 33,
   "id": "98e10a05-88b6-4286-876e-a0c6f39108f1",
   "metadata": {},
   "outputs": [
    {
     "data": {
      "image/png": "[encoded data removed]",
      "text/plain": [
       "<Figure size 640x480 with 1 Axes>"
      ]
     },
     "metadata": {},
     "output_type": "display_data"
    }
   ],
   "source": [
    "# Plot the decision boundaries of the trained model using two of the features\n",
    "import seaborn as sns\n",
    "import matplotlib.pyplot as plt\n",
    "df_train = pd.concat([X_train,y_train],axis=1)\n",
    "sns.scatterplot(data = df_train, x = 'petal length (cm)',y='petal width (cm)',hue= y_train)\n",
    "plt.title('Petal length vs Petal width hueplot')\n",
    "plt.show()"
   ]
  },
  {
   "cell_type": "code",
   "execution_count": 34,
   "id": "0ba50238-b7e4-46e6-8ad2-d4530f200633",
   "metadata": {},
   "outputs": [
    {
     "name": "stdout",
     "output_type": "stream",
     "text": [
      "C Value : 1\n",
      "\n",
      "Accuracy : 1.0\n",
      "\n",
      "              precision    recall  f1-score   support\n",
      "\n",
      "           0       1.00      1.00      1.00        15\n",
      "           1       1.00      1.00      1.00        11\n",
      "           2       1.00      1.00      1.00        12\n",
      "\n",
      "    accuracy                           1.00        38\n",
      "   macro avg       1.00      1.00      1.00        38\n",
      "weighted avg       1.00      1.00      1.00        38\n",
      "\n",
      "\n",
      "-----------------------------------------\n",
      "\n",
      "C Value : 2\n",
      "\n",
      "Accuracy : 1.0\n",
      "\n",
      "              precision    recall  f1-score   support\n",
      "\n",
      "           0       1.00      1.00      1.00        15\n",
      "           1       1.00      1.00      1.00        11\n",
      "           2       1.00      1.00      1.00        12\n",
      "\n",
      "    accuracy                           1.00        38\n",
      "   macro avg       1.00      1.00      1.00        38\n",
      "weighted avg       1.00      1.00      1.00        38\n",
      "\n",
      "\n",
      "-----------------------------------------\n",
      "\n",
      "C Value : 3\n",
      "\n",
      "Accuracy : 1.0\n",
      "\n",
      "              precision    recall  f1-score   support\n",
      "\n",
      "           0       1.00      1.00      1.00        15\n",
      "           1       1.00      1.00      1.00        11\n",
      "           2       1.00      1.00      1.00        12\n",
      "\n",
      "    accuracy                           1.00        38\n",
      "   macro avg       1.00      1.00      1.00        38\n",
      "weighted avg       1.00      1.00      1.00        38\n",
      "\n",
      "\n",
      "-----------------------------------------\n",
      "\n",
      "C Value : 4\n",
      "\n",
      "Accuracy : 0.9736842105263158\n",
      "\n",
      "              precision    recall  f1-score   support\n",
      "\n",
      "           0       1.00      1.00      1.00        15\n",
      "           1       1.00      0.91      0.95        11\n",
      "           2       0.92      1.00      0.96        12\n",
      "\n",
      "    accuracy                           0.97        38\n",
      "   macro avg       0.97      0.97      0.97        38\n",
      "weighted avg       0.98      0.97      0.97        38\n",
      "\n",
      "\n",
      "-----------------------------------------\n",
      "\n",
      "C Value : 5\n",
      "\n",
      "Accuracy : 0.9736842105263158\n",
      "\n",
      "              precision    recall  f1-score   support\n",
      "\n",
      "           0       1.00      1.00      1.00        15\n",
      "           1       1.00      0.91      0.95        11\n",
      "           2       0.92      1.00      0.96        12\n",
      "\n",
      "    accuracy                           0.97        38\n",
      "   macro avg       0.97      0.97      0.97        38\n",
      "weighted avg       0.98      0.97      0.97        38\n",
      "\n",
      "\n",
      "-----------------------------------------\n",
      "\n",
      "C Value : 6\n",
      "\n",
      "Accuracy : 0.9736842105263158\n",
      "\n",
      "              precision    recall  f1-score   support\n",
      "\n",
      "           0       1.00      1.00      1.00        15\n",
      "           1       1.00      0.91      0.95        11\n",
      "           2       0.92      1.00      0.96        12\n",
      "\n",
      "    accuracy                           0.97        38\n",
      "   macro avg       0.97      0.97      0.97        38\n",
      "weighted avg       0.98      0.97      0.97        38\n",
      "\n",
      "\n",
      "-----------------------------------------\n",
      "\n",
      "C Value : 7\n",
      "\n",
      "Accuracy : 0.9736842105263158\n",
      "\n",
      "              precision    recall  f1-score   support\n",
      "\n",
      "           0       1.00      1.00      1.00        15\n",
      "           1       1.00      0.91      0.95        11\n",
      "           2       0.92      1.00      0.96        12\n",
      "\n",
      "    accuracy                           0.97        38\n",
      "   macro avg       0.97      0.97      0.97        38\n",
      "weighted avg       0.98      0.97      0.97        38\n",
      "\n",
      "\n",
      "-----------------------------------------\n",
      "\n",
      "C Value : 8\n",
      "\n",
      "Accuracy : 0.9736842105263158\n",
      "\n",
      "              precision    recall  f1-score   support\n",
      "\n",
      "           0       1.00      1.00      1.00        15\n",
      "           1       1.00      0.91      0.95        11\n",
      "           2       0.92      1.00      0.96        12\n",
      "\n",
      "    accuracy                           0.97        38\n",
      "   macro avg       0.97      0.97      0.97        38\n",
      "weighted avg       0.98      0.97      0.97        38\n",
      "\n",
      "\n",
      "-----------------------------------------\n",
      "\n",
      "C Value : 9\n",
      "\n",
      "Accuracy : 0.9736842105263158\n",
      "\n",
      "              precision    recall  f1-score   support\n",
      "\n",
      "           0       1.00      1.00      1.00        15\n",
      "           1       1.00      0.91      0.95        11\n",
      "           2       0.92      1.00      0.96        12\n",
      "\n",
      "    accuracy                           0.97        38\n",
      "   macro avg       0.97      0.97      0.97        38\n",
      "weighted avg       0.98      0.97      0.97        38\n",
      "\n",
      "\n",
      "-----------------------------------------\n",
      "\n",
      "C Value : 10\n",
      "\n",
      "Accuracy : 0.9736842105263158\n",
      "\n",
      "              precision    recall  f1-score   support\n",
      "\n",
      "           0       1.00      1.00      1.00        15\n",
      "           1       1.00      0.91      0.95        11\n",
      "           2       0.92      1.00      0.96        12\n",
      "\n",
      "    accuracy                           0.97        38\n",
      "   macro avg       0.97      0.97      0.97        38\n",
      "weighted avg       0.98      0.97      0.97        38\n",
      "\n",
      "\n",
      "-----------------------------------------\n",
      "\n"
     ]
    }
   ],
   "source": [
    "from sklearn.metrics import classification_report\n",
    "C = [1,2,3,4,5,6,7,8,9,10]\n",
    "for i in C:\n",
    "    model = SVC(kernel='linear', C=i)\n",
    "    model.fit(X_train,y_train)\n",
    "    y_pred = model.predict(X_test)\n",
    "    print(f'C Value : {i}\\n')\n",
    "    print(f'Accuracy : {accuracy_score(y_test,y_pred)}\\n')\n",
    "    print(classification_report(y_test,y_pred))\n",
    "    print('\\n-----------------------------------------\\n')"
   ]
  }
 ],
 "metadata": {
  "kernelspec": {
   "display_name": "Python 3 (ipykernel)",
   "language": "python",
   "name": "python3"
  },
  "language_info": {
   "codemirror_mode": {
    "name": "ipython",
    "version": 3
   },
   "file_extension": ".py",
   "mimetype": "text/x-python",
   "name": "python",
   "nbconvert_exporter": "python",
   "pygments_lexer": "ipython3",
   "version": "3.10.8"
  }
 },
 "nbformat": 4,
 "nbformat_minor": 5
}
